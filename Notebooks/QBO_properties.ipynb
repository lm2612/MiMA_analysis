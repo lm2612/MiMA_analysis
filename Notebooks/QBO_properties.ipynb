{
 "cells": [
  {
   "cell_type": "code",
   "execution_count": 1,
   "id": "6699f5a4",
   "metadata": {},
   "outputs": [],
   "source": [
    "import os\n",
    "import glob\n",
    "import netCDF4 as nc\n",
    "import numpy as np\n",
    "import matplotlib.pyplot as plt\n",
    "import cartopy.crs as ccrs\n",
    "from cartopy.util import add_cyclic_point\n",
    "\n",
    "from scipy import signal\n",
    "from scipy.fft import fft, fftfreq\n",
    "\n",
    "\n",
    "import sys\n",
    "sys.path.insert(0,'..')\n",
    "\n",
    "\n",
    "from clim_functions.mean_lat_weighted import mean_lat_weighted\n",
    "from clim_functions.deseasonalize import deseasonalize\n"
   ]
  },
  {
   "cell_type": "code",
   "execution_count": 2,
   "id": "2d3b1a2d",
   "metadata": {},
   "outputs": [
    {
     "name": "stdout",
     "output_type": "stream",
     "text": [
      "/scratch/users/lauraman/MiMA/runs/038/\n",
      "['/scratch/users/lauraman/MiMA/runs/038/atmos_daily.nc', '/scratch/users/lauraman/MiMA/runs/038/atmos_avg.nc']\n"
     ]
    }
   ],
   "source": [
    "# Select run to plot\n",
    "run = '038'\n",
    "basedir = os.environ['SCRATCH']+'/MiMA/runs/'\n",
    "rundir = basedir + run + '/'\n",
    "print(rundir)\n",
    "\n",
    "print(glob.glob(rundir+'*.nc'))\n",
    "filename = 'atmos_daily'\n",
    "dataset = nc.Dataset(rundir+filename+'.nc', 'r')\n",
    "\n",
    "lon = dataset['lon']\n",
    "lat = dataset['lat']\n",
    "time = dataset['time']\n",
    "pfull = dataset['pfull']\n",
    "ucomp = dataset['ucomp']"
   ]
  },
  {
   "cell_type": "markdown",
   "id": "37226bc4",
   "metadata": {},
   "source": [
    "## QBO plots"
   ]
  },
  {
   "cell_type": "code",
   "execution_count": 7,
   "id": "519891ab",
   "metadata": {},
   "outputs": [],
   "source": [
    "# First, we select the 4degS-4degN region and take zonal means for strat. pressure levels 50-10hPa (indices 13-20)\n",
    "strat_10_50 = list(range(13, 21))\n",
    "p_strat = pfull[strat_10_50]\n",
    "u_zonal = mean_lat_weighted( ucomp[:, strat_10_50, 30:34, :].mean(axis=(-1)), lat[30:34], axis=(-1) )\n",
    "t = time[:]"
   ]
  },
  {
   "cell_type": "code",
   "execution_count": 8,
   "id": "fce9c354",
   "metadata": {},
   "outputs": [
    {
     "ename": "NameError",
     "evalue": "name 'p_strat_10_50' is not defined",
     "output_type": "error",
     "traceback": [
      "\u001b[0;31m---------------------------------------------------------------------------\u001b[0m",
      "\u001b[0;31mNameError\u001b[0m                                 Traceback (most recent call last)",
      "\u001b[0;32m/tmp/ipykernel_28902/3879960262.py\u001b[0m in \u001b[0;36m<module>\u001b[0;34m\u001b[0m\n\u001b[0;32m----> 1\u001b[0;31m \u001b[0mp_strat_10_50\u001b[0m\u001b[0;34m\u001b[0m\u001b[0;34m\u001b[0m\u001b[0m\n\u001b[0m",
      "\u001b[0;31mNameError\u001b[0m: name 'p_strat_10_50' is not defined"
     ]
    }
   ],
   "source": [
    "p_strat_10_50"
   ]
  },
  {
   "cell_type": "code",
   "execution_count": 5,
   "id": "580c7115",
   "metadata": {},
   "outputs": [
    {
     "ename": "NameError",
     "evalue": "name 't' is not defined",
     "output_type": "error",
     "traceback": [
      "\u001b[0;31m---------------------------------------------------------------------------\u001b[0m",
      "\u001b[0;31mNameError\u001b[0m                                 Traceback (most recent call last)",
      "\u001b[0;32m/tmp/ipykernel_28902/4263863761.py\u001b[0m in \u001b[0;36m<module>\u001b[0;34m\u001b[0m\n\u001b[0;32m----> 1\u001b[0;31m \u001b[0mu_deseason\u001b[0m \u001b[0;34m=\u001b[0m \u001b[0mdeseasonalize\u001b[0m\u001b[0;34m(\u001b[0m\u001b[0mu_zonal\u001b[0m\u001b[0;34m,\u001b[0m \u001b[0mt\u001b[0m\u001b[0;34m)\u001b[0m\u001b[0;34m\u001b[0m\u001b[0;34m\u001b[0m\u001b[0m\n\u001b[0m",
      "\u001b[0;31mNameError\u001b[0m: name 't' is not defined"
     ]
    }
   ],
   "source": [
    "u_deseason = deseasonalize(u_zonal, t)"
   ]
  },
  {
   "cell_type": "code",
   "execution_count": null,
   "id": "436deee4",
   "metadata": {},
   "outputs": [],
   "source": [
    "plt.plot(u_zonal[:,0])\n",
    "plt.plot(u_deseason[:,0])\n",
    "plt.title('u at 27 hPa (mid stratosphere)')"
   ]
  },
  {
   "cell_type": "markdown",
   "id": "6db2f0af",
   "metadata": {},
   "source": [
    "## Get QBO metrics: amplitude and period\n",
    "We can test a few of different ways to calculate the period and amplitudes"
   ]
  },
  {
   "cell_type": "code",
   "execution_count": null,
   "id": "f7e5a60a",
   "metadata": {},
   "outputs": [],
   "source": [
    "from QBO_metrics.get_QBO_amplitude_DD import get_QBO_amplitude_DD\n",
    "from QBO_metrics.get_QBO_period_FFT import get_QBO_period_FFT\n",
    "from QBO_metrics.get_QBO_TT_metrics import get_QBO_TT"
   ]
  },
  {
   "cell_type": "markdown",
   "id": "ece36438",
   "metadata": {},
   "source": [
    "### Dunkerton and Delisi method for calculating amplitude\n",
    "This method first deseasonalizes the data, then filters out high variability, then calculates the standard devation. This can be calculated at multiple height levels."
   ]
  },
  {
   "cell_type": "code",
   "execution_count": null,
   "id": "74ef772a",
   "metadata": {},
   "outputs": [],
   "source": [
    "amplitudes_DD = get_QBO_amplitude_DD(u_zonal)\n",
    "amplitudes_DD\n"
   ]
  },
  {
   "cell_type": "markdown",
   "id": "8b7ae777",
   "metadata": {},
   "source": [
    "### FFT method for calculating period\n",
    "This method uses an FFT to find the maximum peak in the spectrum. The data is first padded with zeros on either side to increase spectral resolution, we do not need to remove high variability as this will not be the maximum peak of the spectrum. This can be calculated at multiple height levels."
   ]
  },
  {
   "cell_type": "code",
   "execution_count": null,
   "id": "5ec98f5c",
   "metadata": {},
   "outputs": [],
   "source": [
    "period_FFT = get_QBO_period_FFT(u_zonal)"
   ]
  },
  {
   "cell_type": "markdown",
   "id": "c97356a3",
   "metadata": {},
   "source": [
    "### Transition time method\n",
    "This calculates the time between eastward-westward transitions in the original dataset (no deseasonalizing)\n",
    "after smoothing witha 5 month running mean. This can be calculated at multiple height levels, but needs to be done independently."
   ]
  },
  {
   "cell_type": "code",
   "execution_count": null,
   "id": "ea0391fe",
   "metadata": {},
   "outputs": [],
   "source": [
    "period_and_amplitude_TT = np.array([(get_QBO_TT(u_zonal[:,i], return_amplitude=True)) \n",
    "                                    for i in range(u_zonal.shape[1]) ])\n",
    "\n",
    "period_TT = period_and_amplitude_TT[:,0]\n",
    "amplitude_TT = period_and_amplitude_TT[:,1]\n"
   ]
  },
  {
   "cell_type": "code",
   "execution_count": null,
   "id": "aec096fb",
   "metadata": {},
   "outputs": [],
   "source": [
    "periods_TT, amplitudes_TT = get_QBO_TT(u_zonal[:,1], return_amplitude=True)\n",
    "periods_TT, amplitudes_TT "
   ]
  },
  {
   "cell_type": "code",
   "execution_count": null,
   "id": "3689261d",
   "metadata": {},
   "outputs": [],
   "source": [
    "## Check plots"
   ]
  },
  {
   "cell_type": "code",
   "execution_count": 49,
   "id": "f7a84541",
   "metadata": {},
   "outputs": [
    {
     "data": {
      "text/plain": [
       "[<matplotlib.lines.Line2D at 0x7f79f0c66250>]"
      ]
     },
     "execution_count": 49,
     "metadata": {},
     "output_type": "execute_result"
    },
    {
     "data": {
      "image/png": "[encoded data removed]",
      "text/plain": [
       "<Figure size 432x288 with 1 Axes>"
      ]
     },
     "metadata": {
      "needs_background": "light"
     },
     "output_type": "display_data"
    }
   ],
   "source": [
    "plt.plot(p_strat, amplitude_TT, label='TT', fmt='kx')\n",
    "plt.plot(p_strat, amplitude_DD, label='DD', fmt='rx')\n",
    "plt.legend()\n"
   ]
  },
  {
   "cell_type": "code",
   "execution_count": 58,
   "id": "291215d6",
   "metadata": {},
   "outputs": [
    {
     "data": {
      "text/plain": [
       "(array([25.71232033, 25.48795891, 24.38396835]),\n",
       " array([1.96388889, 1.96388889, 2.06666667]))"
      ]
     },
     "execution_count": 58,
     "metadata": {},
     "output_type": "execute_result"
    }
   ],
   "source": [
    "plt.plot(p_strat, period_TT, label='TT', fmt='kx')\n",
    "plt.plot(p_strat, period_FFT, label='FFT', fmt='bx')\n",
    "plt.legend()\n"
   ]
  },
  {
   "cell_type": "code",
   "execution_count": 60,
   "id": "b8b28f1a",
   "metadata": {},
   "outputs": [],
   "source": [
    "avg_amplitude = np.average(amplitudes, weights=periods_yr)"
   ]
  },
  {
   "cell_type": "code",
   "execution_count": 61,
   "id": "d4332774",
   "metadata": {},
   "outputs": [
    {
     "data": {
      "text/plain": [
       "25.18084794929229"
      ]
     },
     "execution_count": 61,
     "metadata": {},
     "output_type": "execute_result"
    }
   ],
   "source": [
    "avg_amplitude"
   ]
  },
  {
   "cell_type": "code",
   "execution_count": 63,
   "id": "28fc7d45",
   "metadata": {},
   "outputs": [],
   "source": [
    "from QBO_metrics.get_QBO_amplitude_DD import get_QBO_amplitude_DD"
   ]
  },
  {
   "cell_type": "code",
   "execution_count": 99,
   "id": "367cc4b5",
   "metadata": {},
   "outputs": [
    {
     "data": {
      "text/plain": [
       "(70, ())"
      ]
     },
     "execution_count": 99,
     "metadata": {},
     "output_type": "execute_result"
    }
   ],
   "source": [
    "shape_u = u_zonal.shape\n",
    "shape_u1 = u_zonal.shape[1:]\n",
    "shape_u0 = shape_u[0]*10\n",
    "new_shape = (shape_u0, shape_u1[:])\n",
    "new_shape"
   ]
  },
  {
   "cell_type": "code",
   "execution_count": 98,
   "id": "84c4230d",
   "metadata": {},
   "outputs": [],
   "source": [
    "u_zonal = u_zonal[-1]"
   ]
  },
  {
   "cell_type": "code",
   "execution_count": null,
   "id": "0461c011",
   "metadata": {},
   "outputs": [],
   "source": []
  }
 ],
 "metadata": {
  "kernelspec": {
   "display_name": "Python3 (plot_env)",
   "language": "python",
   "name": "plot_env"
  },
  "language_info": {
   "codemirror_mode": {
    "name": "ipython",
    "version": 3
   },
   "file_extension": ".py",
   "mimetype": "text/x-python",
   "name": "python",
   "nbconvert_exporter": "python",
   "pygments_lexer": "ipython3",
   "version": "3.9.7"
  }
 },
 "nbformat": 4,
 "nbformat_minor": 5
}
