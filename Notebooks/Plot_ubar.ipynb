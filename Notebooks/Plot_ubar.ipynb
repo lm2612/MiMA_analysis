{
 "cells": [
  {
   "cell_type": "code",
   "execution_count": 1,
   "id": "4909c210",
   "metadata": {},
   "outputs": [],
   "source": [
    "### Example script to save ubar plots to file\n",
    "import os\n",
    "import sys\n",
    "import glob\n",
    "import netCDF4 as nc\n",
    "import numpy as np\n",
    "import matplotlib.pyplot as plt\n",
    "\n",
    "import sys\n",
    "sys.path.insert(0,'..')\n",
    "\n",
    "from plot_functions.plot_ubar_seasonal import plot_ubar_seasonal\n",
    "from plot_functions.plot_ubar_annual import plot_ubar_annual\n",
    "from plot_functions.plot_ubar_daily import plot_ubar_daily\n",
    "from plot_functions.make_gif import make_gif"
   ]
  },
  {
   "cell_type": "markdown",
   "id": "60deb4da",
   "metadata": {},
   "source": [
    "## Get data"
   ]
  },
  {
   "cell_type": "code",
   "execution_count": 2,
   "id": "0c4b467f",
   "metadata": {},
   "outputs": [
    {
     "name": "stdout",
     "output_type": "stream",
     "text": [
      "/scratch/users/lauraman/MiMA/runs/038/\n",
      "['/scratch/users/lauraman/MiMA/runs/038/atmos_daily.nc', '/scratch/users/lauraman/MiMA/runs/038/atmos_avg.nc']\n"
     ]
    }
   ],
   "source": [
    "# Select run to plot\n",
    "run = '038'\n",
    "basedir = os.environ['SCRATCH']+'/MiMA/runs/'\n",
    "rundir = basedir + run + '/'\n",
    "print(rundir)\n",
    "\n",
    "print(glob.glob(rundir+'*.nc'))\n",
    "filename = 'atmos_daily'\n",
    "dataset = nc.Dataset(rundir+filename+'.nc', 'r')\n",
    "\n",
    "lon = dataset['lon']\n",
    "lat = dataset['lat']\n",
    "time = dataset['time']\n",
    "pfull = dataset['pfull']\n",
    "ucomp = dataset['ucomp']"
   ]
  },
  {
   "cell_type": "markdown",
   "id": "b2d8227c",
   "metadata": {},
   "source": [
    "## Plot annual mean"
   ]
  },
  {
   "cell_type": "code",
   "execution_count": null,
   "id": "20ed19df",
   "metadata": {},
   "outputs": [],
   "source": [
    "plot_ubar_annual(lat, pfull, ucomp, rundir)\n",
    "plt.show();\n"
   ]
  },
  {
   "cell_type": "markdown",
   "id": "93c2e3db",
   "metadata": {},
   "source": [
    "## Plot seasonal means"
   ]
  },
  {
   "cell_type": "code",
   "execution_count": null,
   "id": "cfa004dd",
   "metadata": {},
   "outputs": [],
   "source": [
    "plot_ubar_seasonal(lat, pfull, ucomp, rundir)\n",
    "plt.show();\n"
   ]
  },
  {
   "cell_type": "markdown",
   "id": "35ad5528",
   "metadata": {},
   "source": [
    "## Plot gif animation"
   ]
  },
  {
   "cell_type": "code",
   "execution_count": null,
   "id": "26efc9cb",
   "metadata": {},
   "outputs": [],
   "source": [
    "if not os.path.exists(rundir+'PLOTS/ubar_t_animation.gif'):\n",
    "    print(\"Gif does not yet exist. Save daily ubar and create gif.\")\n",
    "    plot_ubar_daily(lat, pfull, ucomp, rundir, dday = 15)\n",
    "    make_gif(rundir+'PLOTS/ubar_t')"
   ]
  },
  {
   "cell_type": "code",
   "execution_count": null,
   "id": "30062cca",
   "metadata": {},
   "outputs": [],
   "source": [
    "from IPython.display import Image\n",
    "Image(filename=rundir+'PLOTS/ubar_t_animation.gif')"
   ]
  },
  {
   "cell_type": "code",
   "execution_count": null,
   "id": "971205bc",
   "metadata": {},
   "outputs": [],
   "source": []
  },
  {
   "cell_type": "code",
   "execution_count": null,
   "id": "788ae201",
   "metadata": {},
   "outputs": [],
   "source": []
  }
 ],
 "metadata": {
  "kernelspec": {
   "display_name": "Python3 (plot_env)",
   "language": "python",
   "name": "plot_env"
  },
  "language_info": {
   "codemirror_mode": {
    "name": "ipython",
    "version": 3
   },
   "file_extension": ".py",
   "mimetype": "text/x-python",
   "name": "python",
   "nbconvert_exporter": "python",
   "pygments_lexer": "ipython3",
   "version": "3.9.7"
  }
 },
 "nbformat": 4,
 "nbformat_minor": 5
}
